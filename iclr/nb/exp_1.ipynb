{
 "cells": [
  {
   "cell_type": "code",
   "execution_count": 1,
   "metadata": {},
   "outputs": [],
   "source": [
    "import os\n",
    "import pandas as pd"
   ]
  },
  {
   "cell_type": "code",
   "execution_count": 19,
   "metadata": {},
   "outputs": [],
   "source": [
    "# @title Helper Functions\n",
    "\n",
    "\n",
    "def convert_yes_df_to_wide(df, save_dir, save_fname, verified = True, matrix_completion = False):\n",
    "    '''This function converts a dataframe to wide format. Fill the missing values with 0 and rest with 1'''\n",
    "    if not matrix_completion:\n",
    "        if verified:\n",
    "            # add a column 'Response' with value 'Yes'\n",
    "            df['Response'] = 1\n",
    "             # the concept names are in the column 'Concept', the feature names are in the column 'Feature', the response is in the column 'Response'\n",
    "            df_wide = df.pivot_table(index='Concept', columns='Feature', values='Response', aggfunc='first').fillna(0)\n",
    "            df_wide.to_csv(os.path.join(save_dir,save_fname))\n",
    "        else:\n",
    "            print('unverified')\n",
    "            # the concept names are in the column 'Concept', the feature names are in the column 'Feature', the response is in the column 'Response'\n",
    "            df_wide = df.pivot_table(index='Concept', columns='Feature', values='Yes/No', aggfunc='first').fillna(0)\n",
    "            df_wide.to_csv(os.path.join(save_dir,save_fname))\n",
    "    return df_wide\n",
    "\n",
    "def preprocess_flan_responses_on_leuven(df):\n",
    "    ''' This function preprocesses the responses from the flan model on the Leuven dataset'''\n",
    "    # replace 'mask>' in the column 'response' with 'No'\n",
    "    df['response'] = df['response'].str.replace('mask>', 'No')\n",
    "    # replave 'True' and 'Yes' with 1\n",
    "    df['response'] = df['response'].str.replace('True', '1')\n",
    "    df['response'] = df['response'].str.replace('Yes', '1')\n",
    "    # replace 'False' and 'No' with 0\n",
    "    df['response'] = df['response'].str.replace('False', '0')\n",
    "    df['response'] = df['response'].str.replace('No', '0')\n",
    "    # convert the column 'response' to int\n",
    "    df['response'] = df['response'].astype(int)\n",
    "    return df\n",
    "\n",
    "def convert_flan_df_to_wide(df):\n",
    "    '''This function converts a dataframe to wide format'''\n",
    "    # the concept names are in the column 'concept', the feature names are in the column 'feature', the response is in the column 'response'\n",
    "    df_wide = df.pivot_table(index='concept', columns='feature', values='response', aggfunc='first').fillna(0)\n",
    "    return df_wide\n"
   ]
  },
  {
   "attachments": {},
   "cell_type": "markdown",
   "metadata": {},
   "source": [
    "# ICLR"
   ]
  },
  {
   "cell_type": "code",
   "execution_count": 56,
   "metadata": {},
   "outputs": [],
   "source": [
    "save_dir = '../data/leuven/flan'\n",
    "flan_responses = pd.read_csv(os.path.join(save_dir, 'flan_leuven_prompts_answers.csv'))\n",
    "flan_responses = preprocess_flan_responses_on_leuven(flan_responses)\n",
    "flan_responses_wide = convert_flan_df_to_wide(flan_responses)\n",
    "flan_responses_wide.to_csv(os.path.join(save_dir, '../flan_leuven_norms.csv'))"
   ]
  },
  {
   "cell_type": "code",
   "execution_count": 58,
   "metadata": {},
   "outputs": [],
   "source": [
    "save_dir = '../data/leuven/flan'\n",
    "flan_responses = pd.read_csv(os.path.join(save_dir, 'flan_leuven_broad_prompt.csv'))\n",
    "flan_responses = preprocess_flan_responses_on_leuven(flan_responses)\n",
    "flan_responses_wide = convert_flan_df_to_wide(flan_responses)\n",
    "flan_responses_wide.to_csv(os.path.join(save_dir, '../flan_leuven_norms_broad_prompt.csv'))"
   ]
  }
 ],
 "metadata": {
  "kernelspec": {
   "display_name": "conceptual_representations_gpt",
   "language": "python",
   "name": "python3"
  },
  "language_info": {
   "codemirror_mode": {
    "name": "ipython",
    "version": 3
   },
   "file_extension": ".py",
   "mimetype": "text/x-python",
   "name": "python",
   "nbconvert_exporter": "python",
   "pygments_lexer": "ipython3",
   "version": "3.10.4"
  },
  "orig_nbformat": 4,
  "vscode": {
   "interpreter": {
    "hash": "4af0159948c59036d60f2810e081c8e724d4d7b9f72bddfb24f0ceb38cfd8de2"
   }
  }
 },
 "nbformat": 4,
 "nbformat_minor": 2
}
