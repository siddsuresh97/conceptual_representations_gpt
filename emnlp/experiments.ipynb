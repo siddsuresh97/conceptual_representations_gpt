{
 "cells": [
  {
   "cell_type": "code",
   "execution_count": 52,
   "metadata": {},
   "outputs": [
    {
     "name": "stdout",
     "output_type": "stream",
     "text": [
      "The rpy2.ipython extension is already loaded. To reload it, use:\n",
      "  %reload_ext rpy2.ipython\n"
     ]
    }
   ],
   "source": [
    "import rpy2.robjects as ro\n",
    "import rpy2.robjects.numpy2ri\n",
    "import pandas as pd\n",
    "# import rpy2_arrow.pyarrow_rarrow as pyra\n",
    "%load_ext rpy2.ipython\n",
    "rpy2.robjects.numpy2ri.activate()"
   ]
  },
  {
   "cell_type": "code",
   "execution_count": 140,
   "metadata": {},
   "outputs": [],
   "source": [
    "%%R\n",
    "library(lsa)\n",
    "library(vegan)\n",
    "library(ape)\n",
    "# library(psych)\n",
    "library(ggplot2)\n",
    "# library(dendextend)\n",
    "# library(circlize)\n",
    "# library(grid)\n",
    "library(tidyr)"
   ]
  },
  {
   "attachments": {},
   "cell_type": "markdown",
   "metadata": {},
   "source": [
    "## feature list humans (leuven) vs feature list gpt"
   ]
  },
  {
   "attachments": {},
   "cell_type": "markdown",
   "metadata": {},
   "source": [
    "### old code"
   ]
  },
  {
   "cell_type": "code",
   "execution_count": 30,
   "metadata": {},
   "outputs": [],
   "source": [
    "%%R\n",
    "# set working dir to the dir the script is in\n",
    "setwd(\"/home/siddsuresh97/Projects/conceptual_representations_gpt/emnlp/\")\n",
    "\n",
    "# Load data\n",
    "leuven_animals = read.csv('data/feature_listing/animal_leuven_norms.csv')\n",
    "leuven_tools = read.csv('data/feature_listing/artifacts_leuven_norms.csv')\n",
    "clip = read.csv('data/clip/clip_embeddings.csv')\n",
    "w2v = read.csv('data/word2vec/word2vec_embeddings.csv')\n",
    "human_triplet_mds = read.csv('data/triplets/summer_data/human_reptile_tool_embedding_df.csv')\n",
    "gpt_triplet_mds = read.csv('data/triplets/summer_data/gpt_reptile_tool_embedding_df_temp0_cogsci2023.csv')\n",
    "gpt_embed <- read.csv('data/gpt/gpt_embeddings_text-similarity-davinci-001.csv')"
   ]
  },
  {
   "cell_type": "code",
   "execution_count": 41,
   "metadata": {},
   "outputs": [],
   "source": [
    "%%R \n",
    "# clip_data\n",
    "clip = clip[order(clip$X), ]\n",
    "clip_dsm =1-lsa::cosine(t(data.matrix(clip[,2:ncol(clip)])))\n",
    "clip_mds =  cmdscale(clip_dsm,k = 3)\n",
    "rownames(clip_dsm) <- clip$X\n",
    "rownames(clip_mds) <- clip$X\n",
    "clip_mds <- clip_mds[order(rownames(clip_mds)),]"
   ]
  },
  {
   "cell_type": "code",
   "execution_count": 42,
   "metadata": {},
   "outputs": [],
   "source": [
    "%%R \n",
    "# gpt_embed_data\n",
    "gpt_embed = gpt_embed[order(gpt_embed$X), ]\n",
    "gpt_embed_dsm =1-lsa::cosine(t(data.matrix(gpt_embed[,2:ncol(gpt_embed)])))\n",
    "gpt_embed_mds =  cmdscale(gpt_embed_dsm,k = 3)\n",
    "rownames(gpt_embed_dsm) <- gpt_embed$X\n",
    "rownames(gpt_embed_mds) <- gpt_embed$X\n",
    "gpt_embed_mds <- gpt_embed_mds[order(rownames(gpt_embed_mds)),]"
   ]
  },
  {
   "cell_type": "code",
   "execution_count": 43,
   "metadata": {},
   "outputs": [],
   "source": [
    "%%R \n",
    "#word2vec_data\n",
    "w2v = w2v[order(w2v$X), ]\n",
    "w2v_dsm =1-lsa::cosine(t(data.matrix(w2v[,2:ncol(w2v)])))\n",
    "# <!-- w2v_dsm = dist(w2v[,2:ncol(w2v)) -->\n",
    "w2v_mds =  cmdscale(w2v_dsm,k = 3)\n",
    "rownames(w2v_dsm) <- w2v$X\n",
    "rownames(w2v_mds) <- w2v$X\n",
    "w2v_mds <- w2v_mds[order(rownames(w2v_mds)),]"
   ]
  },
  {
   "cell_type": "code",
   "execution_count": 44,
   "metadata": {},
   "outputs": [],
   "source": [
    "%%R \n",
    "#leuven_data\n",
    "leuven = merge(leuven_animals, leuven_tools, by = 'X', all = TRUE)\n",
    "leuven[is.na(leuven)] = 0\n",
    "leuven_cosine_dist = 1-  lsa::cosine(t(data.matrix(leuven[,2:ncol(leuven)])))\n",
    "leuven_mds <- cmdscale(leuven_cosine_dist,k = 3)\n",
    "rownames(leuven_cosine_dist) <- leuven$X\n",
    "rownames(leuven_mds) <- leuven$X\n",
    "leuven_mds <- leuven_mds[order(rownames(leuven_mds)),]"
   ]
  },
  {
   "cell_type": "code",
   "execution_count": 45,
   "metadata": {},
   "outputs": [],
   "source": [
    "%%R \n",
    "#flan_xl_verified\n",
    "flan_xl_verified = read.csv('data/feature_listing/flan_xl_wide.csv')\n",
    "flan_xl_dsm = 1-  lsa::cosine(t(data.matrix(flan_xl_verified[,2:ncol(flan_xl_verified)])))\n",
    "flan_xl_mds <- cmdscale(flan_xl_dsm,k = 3)\n",
    "rownames(flan_xl_dsm) <- flan_xl_verified$Concept\n",
    "rownames(flan_xl_mds) = rownames(flan_xl_dsm)\n",
    "flan_xl_mds <- flan_xl_mds[order(rownames(flan_xl_mds)),]"
   ]
  },
  {
   "cell_type": "code",
   "execution_count": 46,
   "metadata": {},
   "outputs": [],
   "source": [
    "%%R \n",
    "#flan_xxl_verified\n",
    "flan_xxl_verified = read.csv('data/feature_listing/flan_xxl_wide.csv')\n",
    "flan_xxl_dsm = 1-  lsa::cosine(t(data.matrix(flan_xxl_verified[,2:ncol(flan_xxl_verified)])))\n",
    "flan_xxl_mds <- cmdscale(flan_xxl_dsm,k = 3)\n",
    "rownames(flan_xxl_dsm) <- flan_xxl_verified$Concept\n",
    "rownames(flan_xxl_mds) = rownames(flan_xxl_dsm)\n",
    "flan_xxl_mds <- flan_xxl_mds[order(rownames(flan_xxl_mds)),]"
   ]
  },
  {
   "cell_type": "code",
   "execution_count": 47,
   "metadata": {},
   "outputs": [],
   "source": [
    "%%R \n",
    "#gpt unverified\n",
    "gpt_summer_no_mc = read.csv('data/feature_listing/gpt_response_unverified_wide_no_matrix_completion.csv')\n",
    "unverified_gpt_dsm = 1-  lsa::cosine(t(data.matrix(gpt_summer_no_mc[,2:ncol(gpt_summer_no_mc)])))\n",
    "unverified_gpt_mds_summer_no_mc <- cmdscale(unverified_gpt_dsm,k = 3)\n",
    "rownames(unverified_gpt_dsm) <- gpt_summer_no_mc$Concept\n",
    "rownames(unverified_gpt_mds_summer_no_mc) = rownames(unverified_gpt_dsm)\n",
    "unverified_gpt_mds_summer_no_mc <- unverified_gpt_mds_summer_no_mc[order(rownames(unverified_gpt_mds_summer_no_mc)),]"
   ]
  },
  {
   "cell_type": "code",
   "execution_count": 48,
   "metadata": {},
   "outputs": [],
   "source": [
    "%%R \n",
    "# gpt verified \n",
    "gpt_summer_no_mc = read.csv('data/feature_listing/gpt_response_yes_wide_no_matrix_completion.csv')\n",
    "verified_gpt_dsm = 1-  lsa::cosine(t(data.matrix(gpt_summer_no_mc[,2:ncol(gpt_summer_no_mc)])))\n",
    "verified_gpt_mds_summer_no_mc <- cmdscale(verified_gpt_dsm,k = 3)\n",
    "rownames(verified_gpt_dsm) <- gpt_summer_no_mc$Concept\n",
    "rownames(verified_gpt_mds_summer_no_mc) = rownames(verified_gpt_dsm)\n",
    "verified_gpt_mds_summer_no_mc <- verified_gpt_mds_summer_no_mc[order(rownames(verified_gpt_mds_summer_no_mc)),]"
   ]
  },
  {
   "cell_type": "code",
   "execution_count": 49,
   "metadata": {},
   "outputs": [],
   "source": [
    "%%R \n",
    "# human triplets\n",
    "rownames(human_triplet_mds) <- human_triplet_mds$concept\n",
    "human_triplet_mds <- human_triplet_mds[order(rownames(human_triplet_mds)),]\n",
    "human_triplet_mds <- human_triplet_mds[, 3:5]\n",
    "human_triplet_cosine_dist = 1-  lsa::cosine(t(data.matrix(human_triplet_mds)))\n",
    "rownames(human_triplet_cosine_dist) <- human_triplet_mds$concept"
   ]
  },
  {
   "cell_type": "code",
   "execution_count": 50,
   "metadata": {},
   "outputs": [],
   "source": [
    "%%R \n",
    "# gpt triplets\n",
    "rownames(gpt_triplet_mds) <- gpt_triplet_mds$concept\n",
    "gpt_triplet_mds <- gpt_triplet_mds[order(rownames(gpt_triplet_mds)),]\n",
    "gpt_triplet_mds <- gpt_triplet_mds[, 3:5]\n",
    "gpt_triplet_cosine_dist = 1-  lsa::cosine(t(data.matrix(gpt_triplet_mds)))\n",
    "rownames(gpt_triplet_cosine_dist) <- gpt_triplet_mds$concept"
   ]
  },
  {
   "attachments": {},
   "cell_type": "markdown",
   "metadata": {},
   "source": [
    "### new code"
   ]
  },
  {
   "cell_type": "code",
   "execution_count": 125,
   "metadata": {},
   "outputs": [],
   "source": [
    "%%R\n",
    "gpt_003_pairwise_dsm = read.csv('data/pairwise/text-davinci-003/response_davinci-003_0.7_mean_matrix.csv')\n",
    "gpt_003_pairwise_dsm = gpt_003_pairwise_dsm[1:(nrow(gpt_003_pairwise_dsm)), 2:(ncol(gpt_003_pairwise_dsm)), drop = FALSE]\n",
    "colnames(gpt_003_pairwise_dsm) <- NULL\n",
    "gpt_003_pairwise_dsm = (t(as.matrix(gpt_003_pairwise_dsm)) + as.matrix(gpt_003_pairwise_dsm))/2\n",
    "gpt_003_pairwise_dsm = 7 - gpt_003_pairwise_dsm\n",
    "gpt_003_pairwise_mds = cmdscale(as.matrix(gpt_003_pairwise_dsm),k = 3)"
   ]
  },
  {
   "cell_type": "code",
   "execution_count": 149,
   "metadata": {},
   "outputs": [],
   "source": [
    "human_pairwise_dsm = pd.read_csv('data/pairwise/human/human_rating_df.csv')\n",
    "# keep columns ['concept_1', 'concept_2', 'response_clean']\n",
    "human_pairwise_dsm = human_pairwise_dsm[['concept_1', 'concept_2', 'response_clean']]\n",
    "\n",
    "# group by concept_1 and concept_2 and take mean of response_clean\n",
    "human_pairwise_dsm = human_pairwise_dsm.groupby(['concept_1', 'concept_2']).mean().reset_index()\n",
    "human_pairwise_dsm = pd.pivot(human_pairwise_dsm, index = 'concept_1', columns = 'concept_2', values = 'response_clean')\n",
    "# wherever there is a nan, replace with 7\n",
    "human_pairwise_dsm = human_pairwise_dsm.fillna(6)\n",
    "\n",
    "#remove row and column names\n",
    "human_pairwise_dsm.index.name = None\n",
    "human_pairwise_dsm.columns.name = None\n",
    "\n",
    "# convert from python to R\n",
    "def numpy_mat_to_R(var_name, var):\n",
    "    nr,nc = var.shape\n",
    "    Br = ro.r.matrix(var, nrow=nr, ncol=nc)\n",
    "    ro.r.assign(var_name, Br)\n",
    "numpy_mat_to_R('human_pairwise_dsm', human_pairwise_dsm.values)\n",
    "\n"
   ]
  },
  {
   "cell_type": "code",
   "execution_count": 151,
   "metadata": {},
   "outputs": [],
   "source": [
    "%%R \n",
    "human_pairwise_dsm = (t(as.matrix(human_pairwise_dsm)) + as.matrix(human_pairwise_dsm))/2\n",
    "human_pairwise_dsm = 6 - human_pairwise_dsm\n",
    "human_pairwise_mds = cmdscale(human_pairwise_dsm,k = 3)"
   ]
  },
  {
   "attachments": {},
   "cell_type": "markdown",
   "metadata": {},
   "source": [
    "## pairwise protest all elements"
   ]
  },
  {
   "cell_type": "code",
   "execution_count": 152,
   "metadata": {},
   "outputs": [],
   "source": [
    "%%R \n",
    "\n",
    "matrices = list(leuven_mds, w2v_mds, clip_mds, unverified_gpt_mds_summer_no_mc, verified_gpt_mds_summer_no_mc, human_triplet_mds, gpt_triplet_mds, gpt_embed_mds, flan_xl_mds, flan_xxl_mds, human_pairwise_mds, gpt_003_pairwise_mds)\n",
    "## Create an empty list to store the results\n",
    "results = list()\n",
    "\n",
    "## Iterate through all combinations of the matrices\n",
    "for (i in 1:(length(matrices))) {\n",
    "    for (j in 1:(length(matrices))) {\n",
    "        # Pass the two matrices to the protest function and store the result\n",
    "        result = protest(matrices[[i]], matrices[[j]], symmetric=TRUE)\n",
    "        results = c(results, sqrt(1-result$ss))\n",
    "    }\n",
    "}\n",
    "\n",
    "## make the results into a table\n",
    "## Create a data frame with all possible combinations of matrix names\n",
    "matrix_names = list(\"leuven\", \"w2v\", \"clip\", \"unverified_gpt_summer_no_mc\", \"verified_gpt_summer_no_mc\", \"human_triplet\", \"gpt_triplet\", \"gpt_embed_mds\", \"flan_xl_mds\", \"flan_xxl_mds\", \"human_pairwise_mds\", \"gpt_003_pairwise_mds\")\n",
    "matrix_combinations = expand.grid(matrix_names, matrix_names)\n",
    "\n",
    "## Assign column names to the data frame\n",
    "colnames(matrix_combinations) = c(\"matrix1\", \"matrix2\")\n",
    "\n",
    "## Fill in the values\n",
    "k = 1\n",
    "for (i in 1:length(matrix_names)) {\n",
    "    for (j in 1:length(matrix_names)) {\n",
    "        matrix_combinations[k, \"result\"] = results[k]\n",
    "        k = k + 1\n",
    "    }\n",
    "}\n",
    "\n",
    "protest_results =  pivot_wider(matrix_combinations, names_from = matrix1, values_from = result)\n",
    "df <- apply(protest_results,2,as.character)\n",
    "\n",
    "write.table(data.frame(df), \"results/correlation_table.csv\", sep=\",\")"
   ]
  },
  {
   "cell_type": "code",
   "execution_count": null,
   "metadata": {},
   "outputs": [],
   "source": []
  }
 ],
 "metadata": {
  "kernelspec": {
   "display_name": "R",
   "language": "python",
   "name": "python3"
  },
  "language_info": {
   "codemirror_mode": {
    "name": "ipython",
    "version": 3
   },
   "file_extension": ".py",
   "mimetype": "text/x-python",
   "name": "python",
   "nbconvert_exporter": "python",
   "pygments_lexer": "ipython3",
   "version": "3.9.16"
  },
  "orig_nbformat": 4,
  "vscode": {
   "interpreter": {
    "hash": "928afd432789db6b3f22423a6bf60d5b912f799001a7e5ee5b1002d773be0d00"
   }
  }
 },
 "nbformat": 4,
 "nbformat_minor": 2
}
