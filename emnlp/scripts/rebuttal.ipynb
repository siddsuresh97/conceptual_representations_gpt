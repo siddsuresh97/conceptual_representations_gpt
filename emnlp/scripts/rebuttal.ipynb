{
 "cells": [
  {
   "cell_type": "code",
   "execution_count": 3,
   "metadata": {},
   "outputs": [],
   "source": [
    "import os\n",
    "import pandas as pd"
   ]
  },
  {
   "attachments": {},
   "cell_type": "markdown",
   "metadata": {},
   "source": [
    "## Leuven Inter rater reliability\n",
    "\n",
    "TODO - There seems to be an error in the way I have counted 1's and 0's for a cell. Will need to change this. Multiplying by FFreq is not the right thing to do."
   ]
  },
  {
   "cell_type": "code",
   "execution_count": 6,
   "metadata": {},
   "outputs": [],
   "source": [
    "leuven_animals = pd.read_csv('../data/feature_listing/animal_leuven_norms.csv')\n",
    "leuven_tools = pd.read_csv('../data/feature_listing/artifacts_leuven_norms.csv')"
   ]
  },
  {
   "cell_type": "code",
   "execution_count": 18,
   "metadata": {},
   "outputs": [],
   "source": [
    "animal_leuven_norms = pd.read_csv(os.path.join('../../data/LeuvenNorms','ANIMALSexemplarfeaturesbig.txt'), sep = \"\\t\")\n",
    "# remove the first two columns in the animal_leuven_norms\n",
    "animal_leuven_norms = animal_leuven_norms.drop(animal_leuven_norms.columns[[0,1]], axis=1)\n"
   ]
  },
  {
   "cell_type": "code",
   "execution_count": 25,
   "metadata": {},
   "outputs": [
    {
     "data": {
      "text/plain": [
       "(98556, 75760, 4318, 80078, 0.8125126831446081)"
      ]
     },
     "execution_count": 25,
     "metadata": {},
     "output_type": "execute_result"
    }
   ],
   "source": [
    "# count the total number of cells in the animal_leuven_norms\n",
    "animal_leuven_norms_count = animal_leuven_norms.count().sum()\n",
    "\n",
    "#count the total number of cells wher the value is 0 or 4\n",
    "animal_leuven_norms_zero = animal_leuven_norms.isin([0]).sum().sum()\n",
    "animal_leuven_norms_four = animal_leuven_norms.isin([4]).sum().sum()\n",
    "animal_leuven_norms_zero_four = animal_leuven_norms_zero + animal_leuven_norms_four\n",
    "\n",
    "animal_leuven_norms_count, animal_leuven_norms_zero, animal_leuven_norms_four, animal_leuven_norms_zero_four ,animal_leuven_norms_zero_four/animal_leuven_norms_count"
   ]
  },
  {
   "attachments": {},
   "cell_type": "markdown",
   "metadata": {},
   "source": [
    "## pairwise split half reliability"
   ]
  },
  {
   "cell_type": "code",
   "execution_count": 4,
   "metadata": {},
   "outputs": [],
   "source": [
    "human_pairwise_df = pd.read_csv('../data/pairwise/human/human_rating_df_aug_2023.csv')"
   ]
  },
  {
   "cell_type": "code",
   "execution_count": 5,
   "metadata": {},
   "outputs": [
    {
     "data": {
      "text/plain": [
       "subjectID\n",
       "1mgoye2xx0    435\n",
       "4okek6qoyk    435\n",
       "716fcx6zzd    435\n",
       "bfc47edr60    435\n",
       "c3zto7lwnl    435\n",
       "h9lfxbnb0l    435\n",
       "hd3swuhan1    435\n",
       "zuez35mybp    429\n",
       "zzs4uadv59    435\n",
       "Name: subjectID, dtype: int64"
      ]
     },
     "execution_count": 5,
     "metadata": {},
     "output_type": "execute_result"
    }
   ],
   "source": [
    "human_pairwise_df['subjectID']. groupby(human_pairwise_df['subjectID']).count()\n",
    " "
   ]
  },
  {
   "cell_type": "code",
   "execution_count": 122,
   "metadata": {},
   "outputs": [],
   "source": [
    "# remove all the rows where the subjectID is 7g1fal9av9\n",
    "# human_pairwise_df = human_pairwise_df[human_pairwise_df.subjectID != '7g1fal9av9']"
   ]
  },
  {
   "cell_type": "code",
   "execution_count": 6,
   "metadata": {},
   "outputs": [],
   "source": [
    "human_pairwise_df['pair_id'] = None\n",
    "concepts = set(human_pairwise_df['concept_2'])\n",
    "\n",
    "#all pairwise combinations of concepts\n",
    "from itertools import combinations\n",
    "concept_combinations = list(combinations(concepts, 2))\n",
    "concept_combinations = [set(x) for x in concept_combinations]\n",
    "\n",
    "# make a new column in the human_pairwise_df that is called, pair_set_id\n",
    "# this is a unique id for each pair of concepts\n",
    "# using the concept_combinations list, we can assign a unique id to each pair of concepts\n",
    "# check if the set of pair_set is in the concept_combinations list and assign the id\n",
    "\n",
    "#iterate over the rows in the human_pairwise_df\n",
    "for index, row in human_pairwise_df.iterrows():\n",
    "    id = concept_combinations.index(set([row['concept_1'], row['concept_2']]))\n",
    "    # assign the id to the pair_id column\n",
    "    human_pairwise_df.at[index, 'pair_id'] = id"
   ]
  },
  {
   "cell_type": "code",
   "execution_count": 7,
   "metadata": {},
   "outputs": [
    {
     "data": {
      "text/plain": [
       "pair_id\n",
       "0      9\n",
       "1      9\n",
       "2      9\n",
       "3      9\n",
       "4      9\n",
       "      ..\n",
       "430    9\n",
       "431    9\n",
       "432    9\n",
       "433    9\n",
       "434    9\n",
       "Name: pair_id, Length: 435, dtype: int64"
      ]
     },
     "execution_count": 7,
     "metadata": {},
     "output_type": "execute_result"
    }
   ],
   "source": [
    "human_pairwise_df['pair_id'].groupby(human_pairwise_df['pair_id']).count()"
   ]
  },
  {
   "cell_type": "code",
   "execution_count": null,
   "metadata": {},
   "outputs": [],
   "source": [
    "# turn human_pairwise_df into wide format\n",
    "human_pairwise_df_wide = human_pairwise_df.pivot_table(index='subjectID', columns='pair_set', values='response_clean')"
   ]
  },
  {
   "cell_type": "code",
   "execution_count": 132,
   "metadata": {},
   "outputs": [
    {
     "data": {
      "text/html": [
       "<div>\n",
       "<style scoped>\n",
       "    .dataframe tbody tr th:only-of-type {\n",
       "        vertical-align: middle;\n",
       "    }\n",
       "\n",
       "    .dataframe tbody tr th {\n",
       "        vertical-align: top;\n",
       "    }\n",
       "\n",
       "    .dataframe thead th {\n",
       "        text-align: right;\n",
       "    }\n",
       "</style>\n",
       "<table border=\"1\" class=\"dataframe\">\n",
       "  <thead>\n",
       "    <tr style=\"text-align: right;\">\n",
       "      <th></th>\n",
       "      <th>subjectID</th>\n",
       "      <th>concept_1</th>\n",
       "      <th>concept_2</th>\n",
       "      <th>response_clean</th>\n",
       "      <th>pair_set</th>\n",
       "    </tr>\n",
       "  </thead>\n",
       "  <tbody>\n",
       "    <tr>\n",
       "      <th>7</th>\n",
       "      <td>49qbegbyj2</td>\n",
       "      <td>alligator</td>\n",
       "      <td>axe</td>\n",
       "      <td>3</td>\n",
       "      <td>('alligator', 'axe')</td>\n",
       "    </tr>\n",
       "    <tr>\n",
       "      <th>10</th>\n",
       "      <td>49qbegbyj2</td>\n",
       "      <td>alligator</td>\n",
       "      <td>blindworm</td>\n",
       "      <td>4</td>\n",
       "      <td>('alligator', 'blindworm')</td>\n",
       "    </tr>\n",
       "    <tr>\n",
       "      <th>18</th>\n",
       "      <td>49qbegbyj2</td>\n",
       "      <td>alligator</td>\n",
       "      <td>caiman</td>\n",
       "      <td>3</td>\n",
       "      <td>('alligator', 'caiman')</td>\n",
       "    </tr>\n",
       "    <tr>\n",
       "      <th>53</th>\n",
       "      <td>49qbegbyj2</td>\n",
       "      <td>alligator</td>\n",
       "      <td>crocodile</td>\n",
       "      <td>6</td>\n",
       "      <td>('alligator', 'crocodile')</td>\n",
       "    </tr>\n",
       "    <tr>\n",
       "      <th>54</th>\n",
       "      <td>49qbegbyj2</td>\n",
       "      <td>alligator</td>\n",
       "      <td>crocodile</td>\n",
       "      <td>5</td>\n",
       "      <td>('alligator', 'crocodile')</td>\n",
       "    </tr>\n",
       "    <tr>\n",
       "      <th>...</th>\n",
       "      <td>...</td>\n",
       "      <td>...</td>\n",
       "      <td>...</td>\n",
       "      <td>...</td>\n",
       "      <td>...</td>\n",
       "    </tr>\n",
       "    <tr>\n",
       "      <th>4753</th>\n",
       "      <td>49qbegbyj2</td>\n",
       "      <td>vacuum cleaner</td>\n",
       "      <td>shovel</td>\n",
       "      <td>4</td>\n",
       "      <td>('vacuum cleaner', 'shovel')</td>\n",
       "    </tr>\n",
       "    <tr>\n",
       "      <th>4754</th>\n",
       "      <td>49qbegbyj2</td>\n",
       "      <td>vacuum cleaner</td>\n",
       "      <td>shovel</td>\n",
       "      <td>2</td>\n",
       "      <td>('vacuum cleaner', 'shovel')</td>\n",
       "    </tr>\n",
       "    <tr>\n",
       "      <th>4762</th>\n",
       "      <td>49qbegbyj2</td>\n",
       "      <td>vacuum cleaner</td>\n",
       "      <td>spanner</td>\n",
       "      <td>4</td>\n",
       "      <td>('vacuum cleaner', 'spanner')</td>\n",
       "    </tr>\n",
       "    <tr>\n",
       "      <th>4763</th>\n",
       "      <td>49qbegbyj2</td>\n",
       "      <td>vacuum cleaner</td>\n",
       "      <td>spanner</td>\n",
       "      <td>4</td>\n",
       "      <td>('vacuum cleaner', 'spanner')</td>\n",
       "    </tr>\n",
       "    <tr>\n",
       "      <th>4777</th>\n",
       "      <td>49qbegbyj2</td>\n",
       "      <td>vacuum cleaner</td>\n",
       "      <td>turtle</td>\n",
       "      <td>1</td>\n",
       "      <td>('vacuum cleaner', 'turtle')</td>\n",
       "    </tr>\n",
       "  </tbody>\n",
       "</table>\n",
       "<p>435 rows × 5 columns</p>\n",
       "</div>"
      ],
      "text/plain": [
       "       subjectID       concept_1  concept_2  response_clean  \\\n",
       "7     49qbegbyj2       alligator        axe               3   \n",
       "10    49qbegbyj2       alligator  blindworm               4   \n",
       "18    49qbegbyj2       alligator     caiman               3   \n",
       "53    49qbegbyj2       alligator  crocodile               6   \n",
       "54    49qbegbyj2       alligator  crocodile               5   \n",
       "...          ...             ...        ...             ...   \n",
       "4753  49qbegbyj2  vacuum cleaner     shovel               4   \n",
       "4754  49qbegbyj2  vacuum cleaner     shovel               2   \n",
       "4762  49qbegbyj2  vacuum cleaner    spanner               4   \n",
       "4763  49qbegbyj2  vacuum cleaner    spanner               4   \n",
       "4777  49qbegbyj2  vacuum cleaner     turtle               1   \n",
       "\n",
       "                           pair_set  \n",
       "7              ('alligator', 'axe')  \n",
       "10       ('alligator', 'blindworm')  \n",
       "18          ('alligator', 'caiman')  \n",
       "53       ('alligator', 'crocodile')  \n",
       "54       ('alligator', 'crocodile')  \n",
       "...                             ...  \n",
       "4753   ('vacuum cleaner', 'shovel')  \n",
       "4754   ('vacuum cleaner', 'shovel')  \n",
       "4762  ('vacuum cleaner', 'spanner')  \n",
       "4763  ('vacuum cleaner', 'spanner')  \n",
       "4777   ('vacuum cleaner', 'turtle')  \n",
       "\n",
       "[435 rows x 5 columns]"
      ]
     },
     "execution_count": 132,
     "metadata": {},
     "output_type": "execute_result"
    }
   ],
   "source": [
    "human_pairwise_df[human_pairwise_df.subjectID == '49qbegbyj2']"
   ]
  },
  {
   "cell_type": "code",
   "execution_count": null,
   "metadata": {},
   "outputs": [],
   "source": []
  }
 ],
 "metadata": {
  "kernelspec": {
   "display_name": "conceptual_represenations_gpt",
   "language": "python",
   "name": "python3"
  },
  "language_info": {
   "codemirror_mode": {
    "name": "ipython",
    "version": 3
   },
   "file_extension": ".py",
   "mimetype": "text/x-python",
   "name": "python",
   "nbconvert_exporter": "python",
   "pygments_lexer": "ipython3",
   "version": "3.9.13"
  },
  "orig_nbformat": 4,
  "vscode": {
   "interpreter": {
    "hash": "2886ae9a6130b79228c3d1879099aac127aa95ce688b2e915c2994996376314d"
   }
  }
 },
 "nbformat": 4,
 "nbformat_minor": 2
}
