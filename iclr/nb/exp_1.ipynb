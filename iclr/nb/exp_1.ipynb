{
 "cells": [
  {
   "cell_type": "code",
   "execution_count": 2,
   "metadata": {},
   "outputs": [],
   "source": [
    "import os\n",
    "import pandas as pd"
   ]
  },
  {
   "cell_type": "code",
   "execution_count": 3,
   "metadata": {},
   "outputs": [],
   "source": [
    "# @title Helper Functions\n",
    "\n",
    "\n",
    "def convert_yes_df_to_wide(df, save_dir, save_fname, verified = True, matrix_completion = False):\n",
    "    '''This function converts a dataframe to wide format. Fill the missing values with 0 and rest with 1'''\n",
    "    if not matrix_completion:\n",
    "        if verified:\n",
    "            # add a column 'Response' with value 'Yes'\n",
    "            df['Response'] = 1\n",
    "             # the concept names are in the column 'Concept', the feature names are in the column 'Feature', the response is in the column 'Response'\n",
    "            df_wide = df.pivot_table(index='Concept', columns='Feature', values='Response', aggfunc='first').fillna(0)\n",
    "            df_wide.to_csv(os.path.join(save_dir,save_fname))\n",
    "        else:\n",
    "            print('unverified')\n",
    "            # the concept names are in the column 'Concept', the feature names are in the column 'Feature', the response is in the column 'Response'\n",
    "            df_wide = df.pivot_table(index='Concept', columns='Feature', values='Yes/No', aggfunc='first').fillna(0)\n",
    "            df_wide.to_csv(os.path.join(save_dir,save_fname))\n",
    "    return df_wide\n",
    "\n",
    "def preprocess_flan_responses_on_leuven(df):\n",
    "    ''' This function preprocesses the responses from the flan model on the Leuven dataset'''\n",
    "    # replace 'mask>' in the column 'response' with 'No'\n",
    "    df['response'] = df['response'].str.replace('mask>', 'No')\n",
    "    # replave 'True' and 'Yes' with 1\n",
    "    df['response'] = df['response'].str.replace('True', '1')\n",
    "    df['response'] = df['response'].str.replace('Yes', '1')\n",
    "    # replace 'False' and 'No' with 0\n",
    "    df['response'] = df['response'].str.replace('False', '0')\n",
    "    df['response'] = df['response'].str.replace('No', '0')\n",
    "    # convert the column 'response' to int\n",
    "    df['response'] = df['response'].astype(int)\n",
    "    return df\n",
    "\n",
    "def convert_flan_df_to_wide(df):\n",
    "    '''This function converts a dataframe to wide format'''\n",
    "    # the concept names are in the column 'concept', the feature names are in the column 'feature', the response is in the column 'response'\n",
    "    df_wide = df.pivot_table(index='concept', columns='feature', values='response', aggfunc='first').fillna(0)\n",
    "    return df_wide\n"
   ]
  },
  {
   "attachments": {},
   "cell_type": "markdown",
   "metadata": {},
   "source": [
    "# ICLR"
   ]
  },
  {
   "cell_type": "code",
   "execution_count": 8,
   "metadata": {},
   "outputs": [],
   "source": [
    "save_dir = '../data/leuven/flan'\n",
    "flan_responses = pd.read_csv(os.path.join(save_dir, 'flan_leuven_prompts_answers_overlap.csv'))\n",
    "flan_responses = preprocess_flan_responses_on_leuven(flan_responses)\n",
    "flan_responses_wide = convert_flan_df_to_wide(flan_responses)\n",
    "flan_responses_wide.to_csv(os.path.join(save_dir, '../flan_leuven_norms_overlap.csv'))"
   ]
  },
  {
   "cell_type": "code",
   "execution_count": 9,
   "metadata": {},
   "outputs": [],
   "source": [
    "save_dir = '../data/leuven/flan'\n",
    "flan_responses = pd.read_csv(os.path.join(save_dir, 'flan_leuven_broad_prompt.csv'))\n",
    "flan_responses = preprocess_flan_responses_on_leuven(flan_responses)\n",
    "flan_responses_wide = convert_flan_df_to_wide(flan_responses)\n",
    "flan_responses_wide.to_csv(os.path.join(save_dir, '../flan_leuven_norms_broad_prompt.csv'))"
   ]
  },
  {
   "cell_type": "code",
   "execution_count": 4,
   "metadata": {},
   "outputs": [],
   "source": [
    "leuven_animals = pd.read_csv('../data/leuven/animal_leuven_norms.csv')\n",
    "leuven_artifacts = pd.read_csv('../data/leuven/artifacts_leuven_norms.csv')\n",
    "flan_responses = pd.read_csv('../data/leuven/flan_leuven_norms.csv')"
   ]
  },
  {
   "cell_type": "code",
   "execution_count": 5,
   "metadata": {},
   "outputs": [
    {
     "name": "stdout",
     "output_type": "stream",
     "text": [
      "Index([], dtype='object')\n",
      "Index([], dtype='object')\n",
      "{'is_big', 'is_ugly', 'is_small', 'is_greasy', 'is_grey', 'is_rare', 'is_slippery', 'is_expensive', 'has_teeth', 'is_healthy', 'Unnamed: 0', 'is_green', 'has_a_flat_head', 'is_not_expensive', 'has_a_horn', 'has_wings', 'is_flat', 'has_a_head', 'is_red', 'is_blue', 'is_elongated', 'is_long', 'stinks', 'floats_on_water', 'is_beautiful', 'is_dangerous', 'is_strong', 'is_light', 'is_black', 'is_white', 'is_round', 'is_black_and_white', 'is_brown', 'has_a_tail'}\n"
     ]
    }
   ],
   "source": [
    "# print columns in leuven_animals that appear more than once\n",
    "print(leuven_animals.columns[leuven_animals.columns.duplicated()])\n",
    "# print columns in leuven_artifacts that appear more than once\n",
    "print(leuven_artifacts.columns[leuven_artifacts.columns.duplicated()])\n",
    "\n",
    "# print columns in leuven_animals that are also in leuven_artifacts\n",
    "print(set(leuven_animals.columns).intersection(set(leuven_artifacts.columns)))\n",
    "\n",
    "\n",
    "\n"
   ]
  },
  {
   "cell_type": "code",
   "execution_count": 17,
   "metadata": {},
   "outputs": [],
   "source": [
    "# make s csv file with one column as features and the other column as which dataset it belongs to\n",
    "# for the features that are in both datasets, say 'both'\n",
    "# for the features that are in only one dataset, say 'animal' or 'artifact'\n",
    "# remove the column 'Unnamed: 0' from leuven_animals and leuven_artifacts\n",
    "features_dict = {}\n",
    "for feature in leuven_animals.columns:\n",
    "    if feature != 'Unnamed: 0':\n",
    "        features_dict[feature] = 'animal_only'\n",
    "for feature in leuven_artifacts.columns:\n",
    "    if feature != 'Unnamed: 0':\n",
    "        if feature in features_dict:\n",
    "            features_dict[feature] = 'both'\n",
    "        else:\n",
    "            features_dict[feature] = 'artifacts_only'\n",
    "# let the index of the dataframe be numbers and not the feature names\n",
    "# and let the column names be 'feature' and 'dataset'\n",
    "features_df = pd.DataFrame.from_dict(features_dict, orient='index', columns=['dataset'])\n",
    "features_df['feature'] = features_df.index\n",
    "features_df = features_df.reset_index(drop=True)\n",
    "# let the first column be 'feature' and the second column be 'dataset'\n",
    "features_df = features_df[['feature', 'dataset']]\n",
    "\n",
    "features_df.to_csv('../data/data_to_tim/leuven_features.csv')"
   ]
  },
  {
   "cell_type": "code",
   "execution_count": 232,
   "metadata": {},
   "outputs": [],
   "source": [
    "# get the columns that are in leuven_animals and in leuven_artifacts\n",
    "common_cols = list(set(leuven_animals.columns).intersection(set(leuven_artifacts.columns)))\n",
    "\n",
    "# remove the column 'Unnamed: 0' from common_cols\n",
    "common_cols.remove('Unnamed: 0')\n",
    "\n",
    "\n",
    "leuven_norms = pd.merge(leuven_animals, leuven_artifacts, on='Unnamed: 0', how='outer').fillna(0)\n",
    "\n",
    "for col in common_cols:\n",
    "    leuven_norms[col] = leuven_norms[col + '_x'] + leuven_norms[col + '_y']\n",
    "    leuven_norms.drop([col + '_x', col + '_y'], axis=1, inplace=True)\n",
    "\n",
    "leuven_norms.to_csv('../data/leuven/leuven_norms.csv')\n"
   ]
  },
  {
   "attachments": {},
   "cell_type": "markdown",
   "metadata": {},
   "source": [
    "# Original counts"
   ]
  },
  {
   "cell_type": "code",
   "execution_count": 4,
   "metadata": {},
   "outputs": [],
   "source": [
    "leuven_animals = pd.read_csv('../data/leuven/animal_leuven_norms_original_counts.csv')\n",
    "leuven_artifacts = pd.read_csv('../data/leuven/artifacts_leuven_norms_original_counts.csv')\n",
    "\n",
    "\n",
    "# get the columns that are in leuven_animals and in leuven_artifacts\n",
    "common_cols = list(set(leuven_animals.columns).intersection(set(leuven_artifacts.columns)))\n",
    "\n",
    "# remove the column 'Unnamed: 0' from common_cols\n",
    "common_cols.remove('Unnamed: 0')\n",
    "\n",
    "\n",
    "leuven_norms = pd.merge(leuven_animals, leuven_artifacts, on='Unnamed: 0', how='outer').fillna(0)\n",
    "\n",
    "for col in common_cols:\n",
    "    leuven_norms[col] = leuven_norms[col + '_x'] + leuven_norms[col + '_y']\n",
    "    leuven_norms.drop([col + '_x', col + '_y'], axis=1, inplace=True)\n",
    "\n",
    "leuven_norms.to_csv('../data/leuven/leuven_norms_original_counts.csv')\n"
   ]
  },
  {
   "cell_type": "code",
   "execution_count": null,
   "metadata": {},
   "outputs": [],
   "source": []
  }
 ],
 "metadata": {
  "kernelspec": {
   "display_name": "conceptual_representations_gpt",
   "language": "python",
   "name": "python3"
  },
  "language_info": {
   "codemirror_mode": {
    "name": "ipython",
    "version": 3
   },
   "file_extension": ".py",
   "mimetype": "text/x-python",
   "name": "python",
   "nbconvert_exporter": "python",
   "pygments_lexer": "ipython3",
   "version": "3.10.4"
  },
  "orig_nbformat": 4,
  "vscode": {
   "interpreter": {
    "hash": "4af0159948c59036d60f2810e081c8e724d4d7b9f72bddfb24f0ceb38cfd8de2"
   }
  }
 },
 "nbformat": 4,
 "nbformat_minor": 2
}
