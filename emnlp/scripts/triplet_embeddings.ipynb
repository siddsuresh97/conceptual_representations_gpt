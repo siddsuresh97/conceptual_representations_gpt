{
 "cells": [
  {
   "cell_type": "code",
   "execution_count": 3,
   "metadata": {},
   "outputs": [
    {
     "ename": "FileNotFoundError",
     "evalue": "[Errno 2] No such file or directory: '/home/siddsuresh97/Projects/conceptual_representations_gpt/emnlp/scripts/out/salmon.frontend.utils.log'",
     "output_type": "error",
     "traceback": [
      "\u001b[0;31m---------------------------------------------------------------------------\u001b[0m",
      "\u001b[0;31mFileNotFoundError\u001b[0m                         Traceback (most recent call last)",
      "Cell \u001b[0;32mIn[3], line 7\u001b[0m\n\u001b[1;32m      5\u001b[0m \u001b[39mimport\u001b[39;00m \u001b[39mos\u001b[39;00m\n\u001b[1;32m      6\u001b[0m \u001b[39mimport\u001b[39;00m \u001b[39mpickle\u001b[39;00m\n\u001b[0;32m----> 7\u001b[0m \u001b[39mfrom\u001b[39;00m \u001b[39msalmon\u001b[39;00m\u001b[39m.\u001b[39;00m\u001b[39mtriplets\u001b[39;00m\u001b[39m.\u001b[39;00m\u001b[39moffline\u001b[39;00m \u001b[39mimport\u001b[39;00m OfflineEmbedding\n",
      "File \u001b[0;32m~/Projects/conceptual_representations_gpt/emnlp/scripts/salmon/__init__.py:2\u001b[0m\n\u001b[1;32m      1\u001b[0m \u001b[39mfrom\u001b[39;00m \u001b[39m.\u001b[39;00m\u001b[39m_version\u001b[39;00m \u001b[39mimport\u001b[39;00m get_versions\n\u001b[0;32m----> 2\u001b[0m \u001b[39mfrom\u001b[39;00m \u001b[39m.\u001b[39;00m\u001b[39mbackend\u001b[39;00m \u001b[39mimport\u001b[39;00m app \u001b[39mas\u001b[39;00m app_algs\n\u001b[1;32m      3\u001b[0m \u001b[39mfrom\u001b[39;00m \u001b[39m.\u001b[39;00m\u001b[39mfrontend\u001b[39;00m \u001b[39mimport\u001b[39;00m app \u001b[39mas\u001b[39;00m app\n\u001b[1;32m      5\u001b[0m __version__ \u001b[39m=\u001b[39m get_versions()[\u001b[39m\"\u001b[39m\u001b[39mversion\u001b[39m\u001b[39m\"\u001b[39m]\n",
      "File \u001b[0;32m~/Projects/conceptual_representations_gpt/emnlp/scripts/salmon/backend/__init__.py:1\u001b[0m\n\u001b[0;32m----> 1\u001b[0m \u001b[39mfrom\u001b[39;00m \u001b[39m.\u001b[39;00m\u001b[39mcore\u001b[39;00m \u001b[39mimport\u001b[39;00m app\n\u001b[1;32m      2\u001b[0m \u001b[39mfrom\u001b[39;00m \u001b[39m.\u001b[39;00m\u001b[39msampler\u001b[39;00m \u001b[39mimport\u001b[39;00m Sampler\n",
      "File \u001b[0;32m~/Projects/conceptual_representations_gpt/emnlp/scripts/salmon/backend/core.py:16\u001b[0m\n\u001b[1;32m     13\u001b[0m \u001b[39mfrom\u001b[39;00m \u001b[39mrejson\u001b[39;00m \u001b[39mimport\u001b[39;00m Client, Path\n\u001b[1;32m     14\u001b[0m \u001b[39mfrom\u001b[39;00m \u001b[39mstarlette\u001b[39;00m\u001b[39m.\u001b[39;00m\u001b[39mexceptions\u001b[39;00m \u001b[39mimport\u001b[39;00m HTTPException \u001b[39mas\u001b[39;00m StarletteHTTPException\n\u001b[0;32m---> 16\u001b[0m \u001b[39mfrom\u001b[39;00m \u001b[39msalmon\u001b[39;00m\u001b[39m.\u001b[39;00m\u001b[39mfrontend\u001b[39;00m\u001b[39m.\u001b[39;00m\u001b[39mutils\u001b[39;00m \u001b[39mimport\u001b[39;00m ServerException\n\u001b[1;32m     18\u001b[0m \u001b[39mfrom\u001b[39;00m \u001b[39m.\u001b[39;00m\u001b[39m.\u001b[39;00m\u001b[39mtriplets\u001b[39;00m \u001b[39mimport\u001b[39;00m samplers\n\u001b[1;32m     19\u001b[0m \u001b[39mfrom\u001b[39;00m \u001b[39m.\u001b[39;00m\u001b[39m.\u001b[39;00m\u001b[39mutils\u001b[39;00m \u001b[39mimport\u001b[39;00m get_logger\n",
      "File \u001b[0;32m~/Projects/conceptual_representations_gpt/emnlp/scripts/salmon/frontend/__init__.py:1\u001b[0m\n\u001b[0;32m----> 1\u001b[0m \u001b[39mfrom\u001b[39;00m \u001b[39m.\u001b[39;00m\u001b[39mprivate\u001b[39;00m \u001b[39mimport\u001b[39;00m \u001b[39m*\u001b[39m\n\u001b[1;32m      2\u001b[0m \u001b[39mfrom\u001b[39;00m \u001b[39m.\u001b[39;00m\u001b[39mpublic\u001b[39;00m \u001b[39mimport\u001b[39;00m app\n",
      "File \u001b[0;32m~/Projects/conceptual_representations_gpt/emnlp/scripts/salmon/frontend/private.py:40\u001b[0m\n\u001b[1;32m     37\u001b[0m \u001b[39mimport\u001b[39;00m \u001b[39msalmon\u001b[39;00m\n\u001b[1;32m     39\u001b[0m \u001b[39mfrom\u001b[39;00m \u001b[39m.\u001b[39;00m\u001b[39m.\u001b[39;00m\u001b[39mtriplets\u001b[39;00m \u001b[39mimport\u001b[39;00m manager\n\u001b[0;32m---> 40\u001b[0m \u001b[39mfrom\u001b[39;00m \u001b[39m.\u001b[39;00m \u001b[39mimport\u001b[39;00m plotting\n\u001b[1;32m     41\u001b[0m \u001b[39mfrom\u001b[39;00m \u001b[39m.\u001b[39;00m\u001b[39mpublic\u001b[39;00m \u001b[39mimport\u001b[39;00m _ensure_initialized, app, templates\n\u001b[1;32m     42\u001b[0m \u001b[39mfrom\u001b[39;00m \u001b[39m.\u001b[39;00m\u001b[39mutils\u001b[39;00m \u001b[39mimport\u001b[39;00m (\n\u001b[1;32m     43\u001b[0m     ServerException,\n\u001b[1;32m     44\u001b[0m     _extract_zipfile,\n\u001b[0;32m   (...)\u001b[0m\n\u001b[1;32m     47\u001b[0m     get_logger,\n\u001b[1;32m     48\u001b[0m )\n",
      "File \u001b[0;32m~/Projects/conceptual_representations_gpt/emnlp/scripts/salmon/frontend/plotting.py:17\u001b[0m\n\u001b[1;32m     14\u001b[0m \u001b[39mfrom\u001b[39;00m \u001b[39mbokeh\u001b[39;00m\u001b[39m.\u001b[39;00m\u001b[39mpalettes\u001b[39;00m \u001b[39mimport\u001b[39;00m brewer, d3\n\u001b[1;32m     15\u001b[0m \u001b[39mfrom\u001b[39;00m \u001b[39mbokeh\u001b[39;00m\u001b[39m.\u001b[39;00m\u001b[39mplotting\u001b[39;00m \u001b[39mimport\u001b[39;00m figure, show\n\u001b[0;32m---> 17\u001b[0m \u001b[39mfrom\u001b[39;00m \u001b[39m.\u001b[39;00m\u001b[39mutils\u001b[39;00m \u001b[39mimport\u001b[39;00m get_logger, image_url\n\u001b[1;32m     19\u001b[0m logger \u001b[39m=\u001b[39m get_logger(\u001b[39m__name__\u001b[39m)\n\u001b[1;32m     22\u001b[0m \u001b[39mdef\u001b[39;00m \u001b[39m_make_hist\u001b[39m(\n\u001b[1;32m     23\u001b[0m     title,\n\u001b[1;32m     24\u001b[0m     xlabel,\n\u001b[0;32m   (...)\u001b[0m\n\u001b[1;32m     30\u001b[0m     \u001b[39m*\u001b[39m\u001b[39m*\u001b[39mkwargs,\n\u001b[1;32m     31\u001b[0m ):\n",
      "File \u001b[0;32m~/Projects/conceptual_representations_gpt/emnlp/scripts/salmon/frontend/utils.py:14\u001b[0m\n\u001b[1;32m     10\u001b[0m \u001b[39mfrom\u001b[39;00m \u001b[39mfastapi\u001b[39;00m \u001b[39mimport\u001b[39;00m HTTPException\n\u001b[1;32m     12\u001b[0m \u001b[39mfrom\u001b[39;00m \u001b[39m.\u001b[39;00m\u001b[39m.\u001b[39;00m\u001b[39mutils\u001b[39;00m \u001b[39mimport\u001b[39;00m get_logger\n\u001b[0;32m---> 14\u001b[0m logger \u001b[39m=\u001b[39m get_logger(\u001b[39m__name__\u001b[39;49m)\n\u001b[1;32m     17\u001b[0m \u001b[39mclass\u001b[39;00m \u001b[39mServerException\u001b[39;00m(HTTPException):\n\u001b[1;32m     18\u001b[0m     \u001b[39mdef\u001b[39;00m \u001b[39m__init__\u001b[39m(\u001b[39mself\u001b[39m, msg, status_code\u001b[39m=\u001b[39m\u001b[39m500\u001b[39m):\n",
      "File \u001b[0;32m~/Projects/conceptual_representations_gpt/emnlp/scripts/salmon/utils.py:34\u001b[0m, in \u001b[0;36mget_logger\u001b[0;34m(name)\u001b[0m\n\u001b[1;32m     31\u001b[0m out \u001b[39m=\u001b[39m ROOT_DIR \u001b[39m/\u001b[39m \u001b[39m\"\u001b[39m\u001b[39mout\u001b[39m\u001b[39m\"\u001b[39m \u001b[39m/\u001b[39m \u001b[39mf\u001b[39m\u001b[39m\"\u001b[39m\u001b[39m{\u001b[39;00mname\u001b[39m}\u001b[39;00m\u001b[39m.log\u001b[39m\u001b[39m\"\u001b[39m\n\u001b[1;32m     32\u001b[0m \u001b[39m##assert out.parent.exists()\u001b[39;00m\n\u001b[0;32m---> 34\u001b[0m fh \u001b[39m=\u001b[39m logging\u001b[39m.\u001b[39;49mFileHandler(\u001b[39mstr\u001b[39;49m(out))\n\u001b[1;32m     35\u001b[0m fh\u001b[39m.\u001b[39msetLevel(LEVEL)\n\u001b[1;32m     36\u001b[0m fh\u001b[39m.\u001b[39msetFormatter(formatter)\n",
      "File \u001b[0;32m~/packages/anaconda3/envs/salmon/lib/python3.8/logging/__init__.py:1147\u001b[0m, in \u001b[0;36mFileHandler.__init__\u001b[0;34m(self, filename, mode, encoding, delay)\u001b[0m\n\u001b[1;32m   1145\u001b[0m     \u001b[39mself\u001b[39m\u001b[39m.\u001b[39mstream \u001b[39m=\u001b[39m \u001b[39mNone\u001b[39;00m\n\u001b[1;32m   1146\u001b[0m \u001b[39melse\u001b[39;00m:\n\u001b[0;32m-> 1147\u001b[0m     StreamHandler\u001b[39m.\u001b[39m\u001b[39m__init__\u001b[39m(\u001b[39mself\u001b[39m, \u001b[39mself\u001b[39;49m\u001b[39m.\u001b[39;49m_open())\n",
      "File \u001b[0;32m~/packages/anaconda3/envs/salmon/lib/python3.8/logging/__init__.py:1176\u001b[0m, in \u001b[0;36mFileHandler._open\u001b[0;34m(self)\u001b[0m\n\u001b[1;32m   1171\u001b[0m \u001b[39mdef\u001b[39;00m \u001b[39m_open\u001b[39m(\u001b[39mself\u001b[39m):\n\u001b[1;32m   1172\u001b[0m \u001b[39m    \u001b[39m\u001b[39m\"\"\"\u001b[39;00m\n\u001b[1;32m   1173\u001b[0m \u001b[39m    Open the current base file with the (original) mode and encoding.\u001b[39;00m\n\u001b[1;32m   1174\u001b[0m \u001b[39m    Return the resulting stream.\u001b[39;00m\n\u001b[1;32m   1175\u001b[0m \u001b[39m    \"\"\"\u001b[39;00m\n\u001b[0;32m-> 1176\u001b[0m     \u001b[39mreturn\u001b[39;00m \u001b[39mopen\u001b[39;49m(\u001b[39mself\u001b[39;49m\u001b[39m.\u001b[39;49mbaseFilename, \u001b[39mself\u001b[39;49m\u001b[39m.\u001b[39;49mmode, encoding\u001b[39m=\u001b[39;49m\u001b[39mself\u001b[39;49m\u001b[39m.\u001b[39;49mencoding)\n",
      "\u001b[0;31mFileNotFoundError\u001b[0m: [Errno 2] No such file or directory: '/home/siddsuresh97/Projects/conceptual_representations_gpt/emnlp/scripts/out/salmon.frontend.utils.log'"
     ]
    }
   ],
   "source": [
    "import pandas as pd\n",
    "import numpy as np\n",
    "from sklearn.model_selection import train_test_split\n",
    "import sklearn\n",
    "import os\n",
    "import pickle\n",
    "from salmon.triplets.offline import OfflineEmbedding"
   ]
  },
  {
   "cell_type": "code",
   "execution_count": null,
   "metadata": {},
   "outputs": [],
   "source": []
  }
 ],
 "metadata": {
  "kernelspec": {
   "display_name": "salmon",
   "language": "python",
   "name": "python3"
  },
  "language_info": {
   "codemirror_mode": {
    "name": "ipython",
    "version": 3
   },
   "file_extension": ".py",
   "mimetype": "text/x-python",
   "name": "python",
   "nbconvert_exporter": "python",
   "pygments_lexer": "ipython3",
   "version": "3.8.16"
  },
  "orig_nbformat": 4,
  "vscode": {
   "interpreter": {
    "hash": "a5350a2291ee4cb97fc0433a8330658248e0b5d05f16783e8e5945375eafd284"
   }
  }
 },
 "nbformat": 4,
 "nbformat_minor": 2
}
